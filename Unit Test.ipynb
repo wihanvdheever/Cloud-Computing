{
 "cells": [
  {
   "cell_type": "code",
   "execution_count": 5,
   "metadata": {},
   "outputs": [],
   "source": [
    "def increment(x):\n",
    "    return x + 1\n",
    "\n",
    "def test_increment():\n",
    "    assert increment(3) == 4\n",
    "    assert increment(5) == 6, \"Increment failed\"\n",
    "    \n",
    "    #Catch failures with try/except\n",
    "    try:\n",
    "        assert increment(-2) == -1 \n",
    "    except AssertionError:\n",
    "        print(\"Incrementing negative number failed\")\n",
    "        "
   ]
  },
  {
   "cell_type": "code",
   "execution_count": 6,
   "metadata": {},
   "outputs": [],
   "source": [
    "test_increment()"
   ]
  },
  {
   "cell_type": "code",
   "execution_count": 12,
   "metadata": {},
   "outputs": [],
   "source": [
    "def decay(y):\n",
    "    return y-1\n",
    "\n",
    "def test_decay():\n",
    "    assert decay(4) == 3\n",
    "    assert decay(1) == 0, \"Increment failed\"\n",
    "    \n",
    "    try:\n",
    "        assert decay(-4) == -5\n",
    "        assert decay(-1) == -2\n",
    "    except AssertionError:\n",
    "        print(\"Decay of negative number failed!\")"
   ]
  },
  {
   "cell_type": "code",
   "execution_count": 13,
   "metadata": {},
   "outputs": [],
   "source": [
    "test_decay()"
   ]
  },
  {
   "cell_type": "code",
   "execution_count": 14,
   "metadata": {},
   "outputs": [
    {
     "data": {
      "text/plain": [
       "-2"
      ]
     },
     "execution_count": 14,
     "metadata": {},
     "output_type": "execute_result"
    }
   ],
   "source": [
    "decay(-1)"
   ]
  },
  {
   "cell_type": "code",
   "execution_count": 15,
   "metadata": {},
   "outputs": [],
   "source": [
    "def fibonacci(a):\n",
    "    if a <= 1:\n",
    "        return a\n",
    "    else:\n",
    "        return (fibonacci(a - 1) + fibonacci(a - 2))\n",
    "\n",
    "def test_fibonacci():\n",
    "    assert fibonacci(1) == 1\n",
    "    assert fibonacci(0) == 0\n",
    "    \n",
    "    try:\n",
    "        assert fibonacci(-1) == 0\n",
    "    except AssertionError:\n",
    "        print(\"No negative series allowed\")"
   ]
  },
  {
   "cell_type": "code",
   "execution_count": 16,
   "metadata": {},
   "outputs": [
    {
     "name": "stdout",
     "output_type": "stream",
     "text": [
      "No negative series allowed\n"
     ]
    }
   ],
   "source": [
    "test_fibonacci()"
   ]
  },
  {
   "cell_type": "code",
   "execution_count": null,
   "metadata": {},
   "outputs": [],
   "source": []
  }
 ],
 "metadata": {
  "kernelspec": {
   "display_name": "Python 3",
   "language": "python",
   "name": "python3"
  },
  "language_info": {
   "codemirror_mode": {
    "name": "ipython",
    "version": 3
   },
   "file_extension": ".py",
   "mimetype": "text/x-python",
   "name": "python",
   "nbconvert_exporter": "python",
   "pygments_lexer": "ipython3",
   "version": "3.7.6"
  }
 },
 "nbformat": 4,
 "nbformat_minor": 4
}
