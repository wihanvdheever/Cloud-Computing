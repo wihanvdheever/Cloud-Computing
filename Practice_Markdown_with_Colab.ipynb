{
  "cells": [
    {
      "cell_type": "markdown",
      "metadata": {
        "id": "view-in-github",
        "colab_type": "text"
      },
      "source": [
        "<a href=\"https://colab.research.google.com/github/wihanvdheever/Cloud-Computing/blob/main/Practice_Markdown_with_Colab.ipynb\" target=\"_parent\"><img src=\"https://colab.research.google.com/assets/colab-badge.svg\" alt=\"Open In Colab\"/></a>"
      ]
    },
    {
      "cell_type": "markdown",
      "metadata": {
        "id": "j-GaX6EIE9Xm"
      },
      "source": [
        "## Practice Markdown"
      ]
    },
    {
      "cell_type": "markdown",
      "metadata": {
        "id": "AvYfFAlNE9Xo"
      },
      "source": [
        "This notebook lets you experiment with producing repeatable technical documentation.  Use this notebook to do the following actions:\n",
        "\n",
        "* Create a code cell and print a Python Hello World statement:  `print(\"hello world\")`\n",
        "* Create a Markdown Cell and add a Title using `#` and then a statement using plain text.  You can looks at the source code for this cell to get an idea of how to use Markdown.\n",
        "* Take some ideas from the [Master Markdown Github Guide](https://guides.github.com/features/mastering-markdown/) and implement them here.\n",
        "* Download this notebook as a `.ipynb` file and check into a Github Project.  You can [see an example here](https://github.com/noahgift/duke-coursera-ccf-lab1/blob/main/Practice-Markdown.ipynb).\n",
        "* Open your notebook in Google Colab and save it into the same Github Project.  You can [see an example here](https://github.com/noahgift/duke-coursera-ccf-lab1/blob/main/Practice_Markdown_with_colab.ipynb).\n"
      ]
    },
    {
      "cell_type": "code",
      "execution_count": null,
      "metadata": {
        "id": "EkD5UscWE9Xp",
        "outputId": "83f55a09-c9eb-40b0-d327-261ead63ca47"
      },
      "outputs": [
        {
          "name": "stdout",
          "output_type": "stream",
          "text": [
            "Hello World!\n"
          ]
        }
      ],
      "source": [
        "print(\"Hello World!\")"
      ]
    },
    {
      "cell_type": "markdown",
      "metadata": {
        "id": "JBq9jaU7E9Xq"
      },
      "source": [
        "# This is a Main Title Heading"
      ]
    },
    {
      "cell_type": "markdown",
      "metadata": {
        "id": "TGby-PjIE9Xq"
      },
      "source": [
        "## This is a Sub-heading"
      ]
    },
    {
      "cell_type": "markdown",
      "metadata": {
        "id": "ozJ4VDHzE9Xq"
      },
      "source": [
        "### This is a Sub-sub-heading"
      ]
    },
    {
      "cell_type": "markdown",
      "metadata": {
        "id": "IIOv3LEME9Xr"
      },
      "source": [
        "# Another Main Heading"
      ]
    },
    {
      "cell_type": "markdown",
      "metadata": {
        "id": "LzVpDTW0E9Xr"
      },
      "source": [
        "## Some more Sub-headings\n",
        "## Some more Sub-headings\n",
        "## Some more Sub-headings"
      ]
    },
    {
      "cell_type": "markdown",
      "metadata": {
        "id": "jl10OQgcE9Xr"
      },
      "source": [
        "Normal text looks like this.\n",
        "\n",
        "This is **bold** or __bold__.\n",
        "\n",
        "This is _italic_.\n",
        "\n",
        "This is ~~strikethrough~~.\n",
        "\n",
        "This is ***bold and italic***.\n",
        "\n",
        "For more tips on Markdown Files: Click [here](https://docs.github.com/en/get-started/writing-on-github/getting-started-with-writing-and-formatting-on-github/basic-writing-and-formatting-syntax)"
      ]
    },
    {
      "cell_type": "code",
      "execution_count": null,
      "metadata": {
        "id": "fr7gT4ibE9Xr"
      },
      "outputs": [],
      "source": []
    }
  ],
  "metadata": {
    "kernelspec": {
      "display_name": "Python 3",
      "language": "python",
      "name": "python3"
    },
    "language_info": {
      "codemirror_mode": {
        "name": "ipython",
        "version": 3
      },
      "file_extension": ".py",
      "mimetype": "text/x-python",
      "name": "python",
      "nbconvert_exporter": "python",
      "pygments_lexer": "ipython3",
      "version": "3.7.6"
    },
    "colab": {
      "provenance": [],
      "include_colab_link": true
    }
  },
  "nbformat": 4,
  "nbformat_minor": 0
}